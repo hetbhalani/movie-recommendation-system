{
 "cells": [
  {
   "cell_type": "code",
   "execution_count": 53,
   "metadata": {},
   "outputs": [],
   "source": [
    "import numpy as np\n",
    "import pandas as pd\n",
    "from sklearn.feature_extraction.text import TfidfVectorizer\n",
    "from nltk.stem.porter import PorterStemmer\n",
    "from sklearn.metrics.pairwise import cosine_similarity\n",
    "from scipy.sparse import csr_matrix"
   ]
  },
  {
   "cell_type": "code",
   "execution_count": 54,
   "metadata": {},
   "outputs": [],
   "source": [
    "df = pd.read_csv('./datasets/TMDB_movie_dataset.csv')\n"
   ]
  },
  {
   "cell_type": "code",
   "execution_count": 55,
   "metadata": {},
   "outputs": [],
   "source": [
    "df = df.iloc[:3000]"
   ]
  },
  {
   "cell_type": "code",
   "execution_count": 56,
   "metadata": {},
   "outputs": [],
   "source": [
    "df.to_csv('test_df.csv', index=False)"
   ]
  },
  {
   "cell_type": "code",
   "execution_count": 57,
   "metadata": {},
   "outputs": [
    {
     "data": {
      "text/plain": [
       "(3000, 10)"
      ]
     },
     "execution_count": 57,
     "metadata": {},
     "output_type": "execute_result"
    }
   ],
   "source": [
    "df.shape"
   ]
  },
  {
   "cell_type": "code",
   "execution_count": 58,
   "metadata": {},
   "outputs": [
    {
     "data": {
      "text/html": [
       "<div>\n",
       "<style scoped>\n",
       "    .dataframe tbody tr th:only-of-type {\n",
       "        vertical-align: middle;\n",
       "    }\n",
       "\n",
       "    .dataframe tbody tr th {\n",
       "        vertical-align: top;\n",
       "    }\n",
       "\n",
       "    .dataframe thead th {\n",
       "        text-align: right;\n",
       "    }\n",
       "</style>\n",
       "<table border=\"1\" class=\"dataframe\">\n",
       "  <thead>\n",
       "    <tr style=\"text-align: right;\">\n",
       "      <th></th>\n",
       "      <th>id</th>\n",
       "      <th>title</th>\n",
       "      <th>backdrop_path</th>\n",
       "      <th>homepage</th>\n",
       "      <th>overview</th>\n",
       "      <th>popularity</th>\n",
       "      <th>poster_path</th>\n",
       "      <th>genres</th>\n",
       "      <th>production_companies</th>\n",
       "      <th>keywords</th>\n",
       "    </tr>\n",
       "  </thead>\n",
       "  <tbody>\n",
       "    <tr>\n",
       "      <th>0</th>\n",
       "      <td>565770</td>\n",
       "      <td>Blue Beetle</td>\n",
       "      <td>/1syW9SNna38rSl9fnXwc9fP7POW.jpg</td>\n",
       "      <td>https://www.dc.com/bluebeetle</td>\n",
       "      <td>Recent college grad Jaime Reyes returns home f...</td>\n",
       "      <td>2994.357</td>\n",
       "      <td>/mXLOHHc1Zeuwsl4xYKjKh2280oL.jpg</td>\n",
       "      <td>Action, Science Fiction, Adventure</td>\n",
       "      <td>Warner Bros. Pictures, The Safran Company, DC ...</td>\n",
       "      <td>armor, superhero, family relationships, family...</td>\n",
       "    </tr>\n",
       "  </tbody>\n",
       "</table>\n",
       "</div>"
      ],
      "text/plain": [
       "       id        title                     backdrop_path  \\\n",
       "0  565770  Blue Beetle  /1syW9SNna38rSl9fnXwc9fP7POW.jpg   \n",
       "\n",
       "                        homepage  \\\n",
       "0  https://www.dc.com/bluebeetle   \n",
       "\n",
       "                                            overview  popularity  \\\n",
       "0  Recent college grad Jaime Reyes returns home f...    2994.357   \n",
       "\n",
       "                        poster_path                              genres  \\\n",
       "0  /mXLOHHc1Zeuwsl4xYKjKh2280oL.jpg  Action, Science Fiction, Adventure   \n",
       "\n",
       "                                production_companies  \\\n",
       "0  Warner Bros. Pictures, The Safran Company, DC ...   \n",
       "\n",
       "                                            keywords  \n",
       "0  armor, superhero, family relationships, family...  "
      ]
     },
     "execution_count": 58,
     "metadata": {},
     "output_type": "execute_result"
    }
   ],
   "source": [
    "df.head(1)"
   ]
  },
  {
   "cell_type": "code",
   "execution_count": 59,
   "metadata": {},
   "outputs": [
    {
     "data": {
      "text/plain": [
       "id                         0\n",
       "title                      0\n",
       "backdrop_path            101\n",
       "homepage                1462\n",
       "overview                  36\n",
       "popularity                 0\n",
       "poster_path                6\n",
       "genres                    67\n",
       "production_companies     181\n",
       "keywords                 297\n",
       "dtype: int64"
      ]
     },
     "execution_count": 59,
     "metadata": {},
     "output_type": "execute_result"
    }
   ],
   "source": [
    "df.isnull().sum()"
   ]
  },
  {
   "cell_type": "code",
   "execution_count": 60,
   "metadata": {},
   "outputs": [],
   "source": [
    "df.drop(columns=['backdrop_path', 'homepage', 'poster_path'], inplace=True)"
   ]
  },
  {
   "cell_type": "code",
   "execution_count": 61,
   "metadata": {},
   "outputs": [],
   "source": [
    "df.drop(columns=['popularity'], inplace=True)"
   ]
  },
  {
   "cell_type": "code",
   "execution_count": null,
   "metadata": {},
   "outputs": [],
   "source": [
    "#jst for test\n",
    "df = df[df['keywords'].notna()]\n",
    "df = df[df['production_companies'].notna()]\n",
    "df = df[df['genres'].notna()]\n",
    "df = df[df['poster_path'].notna()]\n",
    "df = df[df['overview'].notna()]\n",
    "\n",
    "# both works same\n",
    "# df.dropna(inplace=True)\n"
   ]
  },
  {
   "cell_type": "code",
   "execution_count": 63,
   "metadata": {},
   "outputs": [
    {
     "data": {
      "text/plain": [
       "(2554, 6)"
      ]
     },
     "execution_count": 63,
     "metadata": {},
     "output_type": "execute_result"
    }
   ],
   "source": [
    "df.shape"
   ]
  },
  {
   "cell_type": "code",
   "execution_count": 64,
   "metadata": {},
   "outputs": [
    {
     "data": {
      "text/html": [
       "<div>\n",
       "<style scoped>\n",
       "    .dataframe tbody tr th:only-of-type {\n",
       "        vertical-align: middle;\n",
       "    }\n",
       "\n",
       "    .dataframe tbody tr th {\n",
       "        vertical-align: top;\n",
       "    }\n",
       "\n",
       "    .dataframe thead th {\n",
       "        text-align: right;\n",
       "    }\n",
       "</style>\n",
       "<table border=\"1\" class=\"dataframe\">\n",
       "  <thead>\n",
       "    <tr style=\"text-align: right;\">\n",
       "      <th></th>\n",
       "      <th>id</th>\n",
       "      <th>title</th>\n",
       "      <th>overview</th>\n",
       "      <th>genres</th>\n",
       "      <th>production_companies</th>\n",
       "      <th>keywords</th>\n",
       "    </tr>\n",
       "  </thead>\n",
       "  <tbody>\n",
       "    <tr>\n",
       "      <th>0</th>\n",
       "      <td>565770</td>\n",
       "      <td>Blue Beetle</td>\n",
       "      <td>Recent college grad Jaime Reyes returns home f...</td>\n",
       "      <td>Action, Science Fiction, Adventure</td>\n",
       "      <td>Warner Bros. Pictures, The Safran Company, DC ...</td>\n",
       "      <td>armor, superhero, family relationships, family...</td>\n",
       "    </tr>\n",
       "  </tbody>\n",
       "</table>\n",
       "</div>"
      ],
      "text/plain": [
       "       id        title                                           overview  \\\n",
       "0  565770  Blue Beetle  Recent college grad Jaime Reyes returns home f...   \n",
       "\n",
       "                               genres  \\\n",
       "0  Action, Science Fiction, Adventure   \n",
       "\n",
       "                                production_companies  \\\n",
       "0  Warner Bros. Pictures, The Safran Company, DC ...   \n",
       "\n",
       "                                            keywords  \n",
       "0  armor, superhero, family relationships, family...  "
      ]
     },
     "execution_count": 64,
     "metadata": {},
     "output_type": "execute_result"
    }
   ],
   "source": [
    "df.head(1)"
   ]
  },
  {
   "cell_type": "code",
   "execution_count": 65,
   "metadata": {},
   "outputs": [],
   "source": [
    "df['tags'] = (df['genres'] + \" \" * 5 + # Increase genre weight\n",
    "              df['keywords'] + \" \" * 4 + # Increase keywords weight\n",
    "              df['overview'] + \" \" + \n",
    "              df['production_companies'])"
   ]
  },
  {
   "cell_type": "code",
   "execution_count": 66,
   "metadata": {},
   "outputs": [],
   "source": [
    "new = df.drop(columns=['genres','overview','production_companies','keywords'])"
   ]
  },
  {
   "cell_type": "code",
   "execution_count": 67,
   "metadata": {},
   "outputs": [
    {
     "data": {
      "text/html": [
       "<div>\n",
       "<style scoped>\n",
       "    .dataframe tbody tr th:only-of-type {\n",
       "        vertical-align: middle;\n",
       "    }\n",
       "\n",
       "    .dataframe tbody tr th {\n",
       "        vertical-align: top;\n",
       "    }\n",
       "\n",
       "    .dataframe thead th {\n",
       "        text-align: right;\n",
       "    }\n",
       "</style>\n",
       "<table border=\"1\" class=\"dataframe\">\n",
       "  <thead>\n",
       "    <tr style=\"text-align: right;\">\n",
       "      <th></th>\n",
       "      <th>id</th>\n",
       "      <th>title</th>\n",
       "      <th>tags</th>\n",
       "    </tr>\n",
       "  </thead>\n",
       "  <tbody>\n",
       "    <tr>\n",
       "      <th>0</th>\n",
       "      <td>565770</td>\n",
       "      <td>Blue Beetle</td>\n",
       "      <td>Action, Science Fiction, Adventure     armor, ...</td>\n",
       "    </tr>\n",
       "    <tr>\n",
       "      <th>1</th>\n",
       "      <td>980489</td>\n",
       "      <td>Gran Turismo</td>\n",
       "      <td>Action, Drama, Adventure     based on true sto...</td>\n",
       "    </tr>\n",
       "    <tr>\n",
       "      <th>2</th>\n",
       "      <td>754720</td>\n",
       "      <td>A Female Boss with Big Tits and Her Cherry Boy...</td>\n",
       "      <td>Drama     cheating, office, big tits, unfaithf...</td>\n",
       "    </tr>\n",
       "  </tbody>\n",
       "</table>\n",
       "</div>"
      ],
      "text/plain": [
       "       id                                              title  \\\n",
       "0  565770                                        Blue Beetle   \n",
       "1  980489                                       Gran Turismo   \n",
       "2  754720  A Female Boss with Big Tits and Her Cherry Boy...   \n",
       "\n",
       "                                                tags  \n",
       "0  Action, Science Fiction, Adventure     armor, ...  \n",
       "1  Action, Drama, Adventure     based on true sto...  \n",
       "2  Drama     cheating, office, big tits, unfaithf...  "
      ]
     },
     "execution_count": 67,
     "metadata": {},
     "output_type": "execute_result"
    }
   ],
   "source": [
    "new.head(3)"
   ]
  },
  {
   "cell_type": "code",
   "execution_count": 68,
   "metadata": {},
   "outputs": [],
   "source": [
    "# new['tags'] = new['tags'].apply(lambda x: x.lower())\n",
    "import re\n",
    "def preprocess(text):\n",
    "    # Convert to lowercase\n",
    "    text = text.lower()\n",
    "    # Replace commas with spaces for better tokenization of genres and keywords\n",
    "    text = text.replace(',', ' ')\n",
    "    # Remove special characters but keep hyphens for compound words\n",
    "    text = re.sub(r'[^a-zA-Z0-9\\s-]', ' ', text)\n",
    "    # Remove extra spaces\n",
    "    text = re.sub(r'\\s+', ' ', text).strip()\n",
    "    return text\n",
    "\n",
    "new['tags'] = new['tags'].apply(preprocess)"
   ]
  },
  {
   "cell_type": "code",
   "execution_count": 69,
   "metadata": {},
   "outputs": [
    {
     "data": {
      "text/html": [
       "<div>\n",
       "<style scoped>\n",
       "    .dataframe tbody tr th:only-of-type {\n",
       "        vertical-align: middle;\n",
       "    }\n",
       "\n",
       "    .dataframe tbody tr th {\n",
       "        vertical-align: top;\n",
       "    }\n",
       "\n",
       "    .dataframe thead th {\n",
       "        text-align: right;\n",
       "    }\n",
       "</style>\n",
       "<table border=\"1\" class=\"dataframe\">\n",
       "  <thead>\n",
       "    <tr style=\"text-align: right;\">\n",
       "      <th></th>\n",
       "      <th>id</th>\n",
       "      <th>title</th>\n",
       "      <th>tags</th>\n",
       "    </tr>\n",
       "  </thead>\n",
       "  <tbody>\n",
       "    <tr>\n",
       "      <th>0</th>\n",
       "      <td>565770</td>\n",
       "      <td>Blue Beetle</td>\n",
       "      <td>action science fiction adventure armor superhe...</td>\n",
       "    </tr>\n",
       "    <tr>\n",
       "      <th>1</th>\n",
       "      <td>980489</td>\n",
       "      <td>Gran Turismo</td>\n",
       "      <td>action drama adventure based on true story rac...</td>\n",
       "    </tr>\n",
       "    <tr>\n",
       "      <th>2</th>\n",
       "      <td>754720</td>\n",
       "      <td>A Female Boss with Big Tits and Her Cherry Boy...</td>\n",
       "      <td>drama cheating office big tits unfaithful wife...</td>\n",
       "    </tr>\n",
       "  </tbody>\n",
       "</table>\n",
       "</div>"
      ],
      "text/plain": [
       "       id                                              title  \\\n",
       "0  565770                                        Blue Beetle   \n",
       "1  980489                                       Gran Turismo   \n",
       "2  754720  A Female Boss with Big Tits and Her Cherry Boy...   \n",
       "\n",
       "                                                tags  \n",
       "0  action science fiction adventure armor superhe...  \n",
       "1  action drama adventure based on true story rac...  \n",
       "2  drama cheating office big tits unfaithful wife...  "
      ]
     },
     "execution_count": 69,
     "metadata": {},
     "output_type": "execute_result"
    }
   ],
   "source": [
    "new.head(3)\n"
   ]
  },
  {
   "cell_type": "code",
   "execution_count": 70,
   "metadata": {},
   "outputs": [
    {
     "data": {
      "text/plain": [
       "'action science fiction adventure armor superhero family relationships family high tech job hunting mexican american aftercreditsstinger duringcreditsstinger immigrant family college graduate dc extended universe dceu alien technology brother sister relationship latino recent college grad jaime reyes returns home full of aspirations for his future only to find that home is not quite as he left it as he searches to find his purpose in the world fate intervenes when jaime unexpectedly finds himself in possession of an ancient relic of alien biotechnology the scarab warner bros pictures the safran company dc films'"
      ]
     },
     "execution_count": 70,
     "metadata": {},
     "output_type": "execute_result"
    }
   ],
   "source": [
    "new['tags'][0]"
   ]
  },
  {
   "cell_type": "code",
   "execution_count": 71,
   "metadata": {},
   "outputs": [],
   "source": [
    "ps = PorterStemmer()\n",
    "\n",
    "#this function remove same words like lover loving loved and convert to love\n",
    "\n",
    "def stem(text):\n",
    "    return ' '.join([ps.stem(word) for word in text.split()])\n",
    "\n",
    "new['tags'] = new['tags'].apply(stem)"
   ]
  },
  {
   "cell_type": "code",
   "execution_count": 72,
   "metadata": {},
   "outputs": [],
   "source": [
    "tfidf = TfidfVectorizer(\n",
    "    max_features=5000,\n",
    "    stop_words='english',\n",
    "    ngram_range=(1, 3),  # Include up to trigrams\n",
    "    min_df=2,  # Minimum document frequency\n",
    "    max_df=0.85  # Maximum document frequency\n",
    ")  # Include bigrams\n",
    "vactor = tfidf.fit_transform(new['tags']).toarray()"
   ]
  },
  {
   "cell_type": "code",
   "execution_count": 73,
   "metadata": {},
   "outputs": [
    {
     "data": {
      "text/plain": [
       "array([[0.        , 0.        , 0.        , ..., 0.        , 0.        ,\n",
       "        0.        ],\n",
       "       [0.        , 0.        , 0.        , ..., 0.        , 0.        ,\n",
       "        0.        ],\n",
       "       [0.        , 0.        , 0.        , ..., 0.        , 0.        ,\n",
       "        0.        ],\n",
       "       ...,\n",
       "       [0.        , 0.        , 0.        , ..., 0.        , 0.        ,\n",
       "        0.        ],\n",
       "       [0.        , 0.        , 0.        , ..., 0.        , 0.        ,\n",
       "        0.        ],\n",
       "       [0.13244604, 0.        , 0.        , ..., 0.        , 0.        ,\n",
       "        0.        ]])"
      ]
     },
     "execution_count": 73,
     "metadata": {},
     "output_type": "execute_result"
    }
   ],
   "source": [
    "vactor"
   ]
  },
  {
   "cell_type": "code",
   "execution_count": 74,
   "metadata": {},
   "outputs": [
    {
     "data": {
      "text/plain": [
       "(2554, 5000)"
      ]
     },
     "execution_count": 74,
     "metadata": {},
     "output_type": "execute_result"
    }
   ],
   "source": [
    "vactor.shape"
   ]
  },
  {
   "cell_type": "code",
   "execution_count": 75,
   "metadata": {},
   "outputs": [],
   "source": [
    "# cv.get_feature_names_out()"
   ]
  },
  {
   "cell_type": "code",
   "execution_count": 76,
   "metadata": {},
   "outputs": [],
   "source": [
    "similer = cosine_similarity(vactor)"
   ]
  },
  {
   "cell_type": "code",
   "execution_count": 77,
   "metadata": {},
   "outputs": [],
   "source": [
    "def recommend(movie):\n",
    "    try:\n",
    "        idx = new[new['title'] == movie].index[0]\n",
    "        movie_genre = df.iloc[idx]['genres'].lower()  # Get the genre of input movie\n",
    "        \n",
    "        sim_scores = list(enumerate(similer[idx]))\n",
    "        sim_scores = sorted(sim_scores, key=lambda x: x[1], reverse=True)\n",
    "        \n",
    "        # Get top 20 similar movies first\n",
    "        sim_scores = sim_scores[1:21]\n",
    "        movie_indices = [i[0] for i in sim_scores]\n",
    "        \n",
    "        # Get recommendations and add genre information\n",
    "        recommendations = new.iloc[movie_indices][['title']].copy()\n",
    "        recommendations['similarity_score'] = [i[1] for i in sim_scores]\n",
    "        recommendations['genres'] = df.iloc[movie_indices]['genres']\n",
    "        \n",
    "        # Boost scores for movies with matching genres\n",
    "        for i, row in recommendations.iterrows():\n",
    "            if any(g.lower() in movie_genre for g in row['genres'].split(',')):\n",
    "                recommendations.loc[i, 'similarity_score'] *= 1.2\n",
    "        \n",
    "        # Sort again after genre boosting and return top 10\n",
    "        recommendations = recommendations.sort_values('similarity_score', ascending=False)\n",
    "        return recommendations[['title', 'similarity_score']].head(10)\n",
    "        \n",
    "    except IndexError:\n",
    "        return \"Movie not found in database\""
   ]
  },
  {
   "cell_type": "code",
   "execution_count": 78,
   "metadata": {},
   "outputs": [
    {
     "data": {
      "text/html": [
       "<div>\n",
       "<style scoped>\n",
       "    .dataframe tbody tr th:only-of-type {\n",
       "        vertical-align: middle;\n",
       "    }\n",
       "\n",
       "    .dataframe tbody tr th {\n",
       "        vertical-align: top;\n",
       "    }\n",
       "\n",
       "    .dataframe thead th {\n",
       "        text-align: right;\n",
       "    }\n",
       "</style>\n",
       "<table border=\"1\" class=\"dataframe\">\n",
       "  <thead>\n",
       "    <tr style=\"text-align: right;\">\n",
       "      <th></th>\n",
       "      <th>title</th>\n",
       "      <th>similarity_score</th>\n",
       "    </tr>\n",
       "  </thead>\n",
       "  <tbody>\n",
       "    <tr>\n",
       "      <th>656</th>\n",
       "      <td>Shark Bait</td>\n",
       "      <td>0.506980</td>\n",
       "    </tr>\n",
       "    <tr>\n",
       "      <th>2109</th>\n",
       "      <td>The Requin</td>\n",
       "      <td>0.432890</td>\n",
       "    </tr>\n",
       "    <tr>\n",
       "      <th>476</th>\n",
       "      <td>Shark Side of the Moon</td>\n",
       "      <td>0.391614</td>\n",
       "    </tr>\n",
       "    <tr>\n",
       "      <th>1775</th>\n",
       "      <td>Jaws</td>\n",
       "      <td>0.384555</td>\n",
       "    </tr>\n",
       "    <tr>\n",
       "      <th>2824</th>\n",
       "      <td>Jaws 3-D</td>\n",
       "      <td>0.361445</td>\n",
       "    </tr>\n",
       "    <tr>\n",
       "      <th>2482</th>\n",
       "      <td>Deep Blue Sea</td>\n",
       "      <td>0.340304</td>\n",
       "    </tr>\n",
       "    <tr>\n",
       "      <th>1630</th>\n",
       "      <td>Megalodon</td>\n",
       "      <td>0.298784</td>\n",
       "    </tr>\n",
       "    <tr>\n",
       "      <th>2667</th>\n",
       "      <td>The Misfits</td>\n",
       "      <td>0.193291</td>\n",
       "    </tr>\n",
       "    <tr>\n",
       "      <th>2230</th>\n",
       "      <td>Boss Level</td>\n",
       "      <td>0.177953</td>\n",
       "    </tr>\n",
       "    <tr>\n",
       "      <th>2505</th>\n",
       "      <td>The Adventures of Sharkboy and Lavagirl</td>\n",
       "      <td>0.168564</td>\n",
       "    </tr>\n",
       "  </tbody>\n",
       "</table>\n",
       "</div>"
      ],
      "text/plain": [
       "                                        title  similarity_score\n",
       "656                                Shark Bait          0.506980\n",
       "2109                               The Requin          0.432890\n",
       "476                    Shark Side of the Moon          0.391614\n",
       "1775                                     Jaws          0.384555\n",
       "2824                                 Jaws 3-D          0.361445\n",
       "2482                            Deep Blue Sea          0.340304\n",
       "1630                                Megalodon          0.298784\n",
       "2667                              The Misfits          0.193291\n",
       "2230                               Boss Level          0.177953\n",
       "2505  The Adventures of Sharkboy and Lavagirl          0.168564"
      ]
     },
     "execution_count": 78,
     "metadata": {},
     "output_type": "execute_result"
    }
   ],
   "source": [
    "recommend('The Dark Knight')"
   ]
  },
  {
   "cell_type": "code",
   "execution_count": null,
   "metadata": {},
   "outputs": [],
   "source": []
  }
 ],
 "metadata": {
  "kernelspec": {
   "display_name": ".venv",
   "language": "python",
   "name": "python3"
  },
  "language_info": {
   "codemirror_mode": {
    "name": "ipython",
    "version": 3
   },
   "file_extension": ".py",
   "mimetype": "text/x-python",
   "name": "python",
   "nbconvert_exporter": "python",
   "pygments_lexer": "ipython3",
   "version": "3.9.0"
  }
 },
 "nbformat": 4,
 "nbformat_minor": 2
}
