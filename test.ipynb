{
 "cells": [
  {
   "cell_type": "code",
   "execution_count": 1,
   "metadata": {},
   "outputs": [],
   "source": [
    "import numpy as np\n",
    "import pandas as pd\n",
    "from sklearn.feature_extraction.text import CountVectorizer\n",
    "from nltk.stem.porter import PorterStemmer\n",
    "from sklearn.metrics.pairwise import cosine_similarity\n",
    "from scipy.sparse import csr_matrix"
   ]
  },
  {
   "cell_type": "code",
   "execution_count": 2,
   "metadata": {},
   "outputs": [],
   "source": [
    "df = pd.read_csv('./datasets/TMDB_movie_dataset_v11.csv')\n"
   ]
  },
  {
   "cell_type": "code",
   "execution_count": 3,
   "metadata": {},
   "outputs": [
    {
     "data": {
      "text/html": [
       "<div>\n",
       "<style scoped>\n",
       "    .dataframe tbody tr th:only-of-type {\n",
       "        vertical-align: middle;\n",
       "    }\n",
       "\n",
       "    .dataframe tbody tr th {\n",
       "        vertical-align: top;\n",
       "    }\n",
       "\n",
       "    .dataframe thead th {\n",
       "        text-align: right;\n",
       "    }\n",
       "</style>\n",
       "<table border=\"1\" class=\"dataframe\">\n",
       "  <thead>\n",
       "    <tr style=\"text-align: right;\">\n",
       "      <th></th>\n",
       "      <th>id</th>\n",
       "      <th>title</th>\n",
       "      <th>overview</th>\n",
       "      <th>poster_path</th>\n",
       "      <th>genres</th>\n",
       "      <th>production_companies</th>\n",
       "      <th>keywords</th>\n",
       "    </tr>\n",
       "  </thead>\n",
       "  <tbody>\n",
       "    <tr>\n",
       "      <th>0</th>\n",
       "      <td>27205</td>\n",
       "      <td>Inception</td>\n",
       "      <td>Cobb, a skilled thief who commits corporate es...</td>\n",
       "      <td>/oYuLEt3zVCKq57qu2F8dT7NIa6f.jpg</td>\n",
       "      <td>Action, Science Fiction, Adventure</td>\n",
       "      <td>Legendary Pictures, Syncopy, Warner Bros. Pict...</td>\n",
       "      <td>rescue, mission, dream, airplane, paris, franc...</td>\n",
       "    </tr>\n",
       "  </tbody>\n",
       "</table>\n",
       "</div>"
      ],
      "text/plain": [
       "      id      title                                           overview  \\\n",
       "0  27205  Inception  Cobb, a skilled thief who commits corporate es...   \n",
       "\n",
       "                        poster_path                              genres  \\\n",
       "0  /oYuLEt3zVCKq57qu2F8dT7NIa6f.jpg  Action, Science Fiction, Adventure   \n",
       "\n",
       "                                production_companies  \\\n",
       "0  Legendary Pictures, Syncopy, Warner Bros. Pict...   \n",
       "\n",
       "                                            keywords  \n",
       "0  rescue, mission, dream, airplane, paris, franc...  "
      ]
     },
     "execution_count": 3,
     "metadata": {},
     "output_type": "execute_result"
    }
   ],
   "source": [
    "df.head(1)"
   ]
  },
  {
   "cell_type": "code",
   "execution_count": 4,
   "metadata": {},
   "outputs": [
    {
     "data": {
      "text/plain": [
       "id                           0\n",
       "title                       10\n",
       "overview                219417\n",
       "poster_path             348342\n",
       "genres                  420939\n",
       "production_companies    571355\n",
       "keywords                755898\n",
       "dtype: int64"
      ]
     },
     "execution_count": 4,
     "metadata": {},
     "output_type": "execute_result"
    }
   ],
   "source": [
    "df.isnull().sum()"
   ]
  },
  {
   "cell_type": "code",
   "execution_count": 5,
   "metadata": {},
   "outputs": [
    {
     "data": {
      "text/plain": [
       "(1048575, 7)"
      ]
     },
     "execution_count": 5,
     "metadata": {},
     "output_type": "execute_result"
    }
   ],
   "source": [
    "df.shape"
   ]
  },
  {
   "cell_type": "code",
   "execution_count": 6,
   "metadata": {},
   "outputs": [],
   "source": [
    "#jst for test\n",
    "# df = df[df['keywords'].notna()]\n",
    "# df = df[df['production_companies'].notna()]\n",
    "# df = df[df['genres'].notna()]\n",
    "# df = df[df['poster_path'].notna()]\n",
    "# df = df[df['overview'].notna()]\n",
    "\n",
    "# both works same\n",
    "df.dropna(inplace=True)\n"
   ]
  },
  {
   "cell_type": "code",
   "execution_count": 7,
   "metadata": {},
   "outputs": [
    {
     "data": {
      "text/plain": [
       "id                      0\n",
       "title                   0\n",
       "overview                0\n",
       "poster_path             0\n",
       "genres                  0\n",
       "production_companies    0\n",
       "keywords                0\n",
       "dtype: int64"
      ]
     },
     "execution_count": 7,
     "metadata": {},
     "output_type": "execute_result"
    }
   ],
   "source": [
    "df.isnull().sum()"
   ]
  },
  {
   "cell_type": "code",
   "execution_count": 8,
   "metadata": {},
   "outputs": [
    {
     "data": {
      "text/plain": [
       "(146755, 7)"
      ]
     },
     "execution_count": 8,
     "metadata": {},
     "output_type": "execute_result"
    }
   ],
   "source": [
    "df.shape"
   ]
  },
  {
   "cell_type": "code",
   "execution_count": 9,
   "metadata": {},
   "outputs": [
    {
     "data": {
      "text/html": [
       "<div>\n",
       "<style scoped>\n",
       "    .dataframe tbody tr th:only-of-type {\n",
       "        vertical-align: middle;\n",
       "    }\n",
       "\n",
       "    .dataframe tbody tr th {\n",
       "        vertical-align: top;\n",
       "    }\n",
       "\n",
       "    .dataframe thead th {\n",
       "        text-align: right;\n",
       "    }\n",
       "</style>\n",
       "<table border=\"1\" class=\"dataframe\">\n",
       "  <thead>\n",
       "    <tr style=\"text-align: right;\">\n",
       "      <th></th>\n",
       "      <th>id</th>\n",
       "      <th>title</th>\n",
       "      <th>overview</th>\n",
       "      <th>poster_path</th>\n",
       "      <th>genres</th>\n",
       "      <th>production_companies</th>\n",
       "      <th>keywords</th>\n",
       "    </tr>\n",
       "  </thead>\n",
       "  <tbody>\n",
       "    <tr>\n",
       "      <th>0</th>\n",
       "      <td>27205</td>\n",
       "      <td>Inception</td>\n",
       "      <td>Cobb, a skilled thief who commits corporate es...</td>\n",
       "      <td>/oYuLEt3zVCKq57qu2F8dT7NIa6f.jpg</td>\n",
       "      <td>Action, Science Fiction, Adventure</td>\n",
       "      <td>Legendary Pictures, Syncopy, Warner Bros. Pict...</td>\n",
       "      <td>rescue, mission, dream, airplane, paris, franc...</td>\n",
       "    </tr>\n",
       "  </tbody>\n",
       "</table>\n",
       "</div>"
      ],
      "text/plain": [
       "      id      title                                           overview  \\\n",
       "0  27205  Inception  Cobb, a skilled thief who commits corporate es...   \n",
       "\n",
       "                        poster_path                              genres  \\\n",
       "0  /oYuLEt3zVCKq57qu2F8dT7NIa6f.jpg  Action, Science Fiction, Adventure   \n",
       "\n",
       "                                production_companies  \\\n",
       "0  Legendary Pictures, Syncopy, Warner Bros. Pict...   \n",
       "\n",
       "                                            keywords  \n",
       "0  rescue, mission, dream, airplane, paris, franc...  "
      ]
     },
     "execution_count": 9,
     "metadata": {},
     "output_type": "execute_result"
    }
   ],
   "source": [
    "df.head(1)"
   ]
  },
  {
   "cell_type": "code",
   "execution_count": 10,
   "metadata": {},
   "outputs": [],
   "source": [
    "df['tags'] = df['genres'] + df['overview'] + df['production_companies'] + df['keywords']"
   ]
  },
  {
   "cell_type": "code",
   "execution_count": 11,
   "metadata": {},
   "outputs": [],
   "source": [
    "new = df.drop(columns=['genres','overview','production_companies','keywords'])"
   ]
  },
  {
   "cell_type": "code",
   "execution_count": 12,
   "metadata": {},
   "outputs": [
    {
     "data": {
      "text/html": [
       "<div>\n",
       "<style scoped>\n",
       "    .dataframe tbody tr th:only-of-type {\n",
       "        vertical-align: middle;\n",
       "    }\n",
       "\n",
       "    .dataframe tbody tr th {\n",
       "        vertical-align: top;\n",
       "    }\n",
       "\n",
       "    .dataframe thead th {\n",
       "        text-align: right;\n",
       "    }\n",
       "</style>\n",
       "<table border=\"1\" class=\"dataframe\">\n",
       "  <thead>\n",
       "    <tr style=\"text-align: right;\">\n",
       "      <th></th>\n",
       "      <th>id</th>\n",
       "      <th>title</th>\n",
       "      <th>poster_path</th>\n",
       "      <th>tags</th>\n",
       "    </tr>\n",
       "  </thead>\n",
       "  <tbody>\n",
       "    <tr>\n",
       "      <th>0</th>\n",
       "      <td>27205</td>\n",
       "      <td>Inception</td>\n",
       "      <td>/oYuLEt3zVCKq57qu2F8dT7NIa6f.jpg</td>\n",
       "      <td>Action, Science Fiction, AdventureCobb, a skil...</td>\n",
       "    </tr>\n",
       "    <tr>\n",
       "      <th>1</th>\n",
       "      <td>157336</td>\n",
       "      <td>Interstellar</td>\n",
       "      <td>/gEU2QniE6E77NI6lCU6MxlNBvIx.jpg</td>\n",
       "      <td>Adventure, Drama, Science FictionThe adventure...</td>\n",
       "    </tr>\n",
       "    <tr>\n",
       "      <th>2</th>\n",
       "      <td>155</td>\n",
       "      <td>The Dark Knight</td>\n",
       "      <td>/qJ2tW6WMUDux911r6m7haRef0WH.jpg</td>\n",
       "      <td>Drama, Action, Crime, ThrillerBatman raises th...</td>\n",
       "    </tr>\n",
       "  </tbody>\n",
       "</table>\n",
       "</div>"
      ],
      "text/plain": [
       "       id            title                       poster_path  \\\n",
       "0   27205        Inception  /oYuLEt3zVCKq57qu2F8dT7NIa6f.jpg   \n",
       "1  157336     Interstellar  /gEU2QniE6E77NI6lCU6MxlNBvIx.jpg   \n",
       "2     155  The Dark Knight  /qJ2tW6WMUDux911r6m7haRef0WH.jpg   \n",
       "\n",
       "                                                tags  \n",
       "0  Action, Science Fiction, AdventureCobb, a skil...  \n",
       "1  Adventure, Drama, Science FictionThe adventure...  \n",
       "2  Drama, Action, Crime, ThrillerBatman raises th...  "
      ]
     },
     "execution_count": 12,
     "metadata": {},
     "output_type": "execute_result"
    }
   ],
   "source": [
    "new.head(3)"
   ]
  },
  {
   "cell_type": "code",
   "execution_count": 13,
   "metadata": {},
   "outputs": [],
   "source": [
    "new['tags'] = new['tags'].apply(lambda x: x.lower())"
   ]
  },
  {
   "cell_type": "code",
   "execution_count": 14,
   "metadata": {},
   "outputs": [
    {
     "data": {
      "text/html": [
       "<div>\n",
       "<style scoped>\n",
       "    .dataframe tbody tr th:only-of-type {\n",
       "        vertical-align: middle;\n",
       "    }\n",
       "\n",
       "    .dataframe tbody tr th {\n",
       "        vertical-align: top;\n",
       "    }\n",
       "\n",
       "    .dataframe thead th {\n",
       "        text-align: right;\n",
       "    }\n",
       "</style>\n",
       "<table border=\"1\" class=\"dataframe\">\n",
       "  <thead>\n",
       "    <tr style=\"text-align: right;\">\n",
       "      <th></th>\n",
       "      <th>id</th>\n",
       "      <th>title</th>\n",
       "      <th>poster_path</th>\n",
       "      <th>tags</th>\n",
       "    </tr>\n",
       "  </thead>\n",
       "  <tbody>\n",
       "    <tr>\n",
       "      <th>0</th>\n",
       "      <td>27205</td>\n",
       "      <td>Inception</td>\n",
       "      <td>/oYuLEt3zVCKq57qu2F8dT7NIa6f.jpg</td>\n",
       "      <td>action, science fiction, adventurecobb, a skil...</td>\n",
       "    </tr>\n",
       "    <tr>\n",
       "      <th>1</th>\n",
       "      <td>157336</td>\n",
       "      <td>Interstellar</td>\n",
       "      <td>/gEU2QniE6E77NI6lCU6MxlNBvIx.jpg</td>\n",
       "      <td>adventure, drama, science fictionthe adventure...</td>\n",
       "    </tr>\n",
       "    <tr>\n",
       "      <th>2</th>\n",
       "      <td>155</td>\n",
       "      <td>The Dark Knight</td>\n",
       "      <td>/qJ2tW6WMUDux911r6m7haRef0WH.jpg</td>\n",
       "      <td>drama, action, crime, thrillerbatman raises th...</td>\n",
       "    </tr>\n",
       "  </tbody>\n",
       "</table>\n",
       "</div>"
      ],
      "text/plain": [
       "       id            title                       poster_path  \\\n",
       "0   27205        Inception  /oYuLEt3zVCKq57qu2F8dT7NIa6f.jpg   \n",
       "1  157336     Interstellar  /gEU2QniE6E77NI6lCU6MxlNBvIx.jpg   \n",
       "2     155  The Dark Knight  /qJ2tW6WMUDux911r6m7haRef0WH.jpg   \n",
       "\n",
       "                                                tags  \n",
       "0  action, science fiction, adventurecobb, a skil...  \n",
       "1  adventure, drama, science fictionthe adventure...  \n",
       "2  drama, action, crime, thrillerbatman raises th...  "
      ]
     },
     "execution_count": 14,
     "metadata": {},
     "output_type": "execute_result"
    }
   ],
   "source": [
    "new.head(3)"
   ]
  },
  {
   "cell_type": "code",
   "execution_count": 15,
   "metadata": {},
   "outputs": [
    {
     "data": {
      "text/plain": [
       "'action, science fiction, adventurecobb, a skilled thief who commits corporate espionage by infiltrating the subconscious of his targets is offered a chance to regain his old life as payment for a task considered to be impossible: \"inception\", the implantation of another person\\'s idea into a target\\'s subconscious.legendary pictures, syncopy, warner bros. picturesrescue, mission, dream, airplane, paris, france, virtual reality, kidnapping, philosophy, spy, allegory, manipulation, car crash, heist, memory, architecture, los angeles, california, dream world, subconscious'"
      ]
     },
     "execution_count": 15,
     "metadata": {},
     "output_type": "execute_result"
    }
   ],
   "source": [
    "new['tags'][0]"
   ]
  },
  {
   "cell_type": "code",
   "execution_count": null,
   "metadata": {},
   "outputs": [],
   "source": [
    "# ps = PorterStemmer()\n",
    "\n",
    "# #this function remove same words like lover loving loved and convert to love\n",
    "\n",
    "# def stem(d):\n",
    "#     ans = []\n",
    "#     for i in d.split():\n",
    "#         ans.append(ps.stem(i))\n",
    "        \n",
    "#     return ' '.join(ans)\n",
    "\n",
    "# new['tags'] = new['tags'].apply(stem)"
   ]
  },
  {
   "cell_type": "code",
   "execution_count": 24,
   "metadata": {},
   "outputs": [],
   "source": [
    "cv = CountVectorizer(max_features=500, stop_words='english')\n",
    "\n",
    "vactor = cv.fit_transform(new['tags']).toarray()"
   ]
  },
  {
   "cell_type": "code",
   "execution_count": 25,
   "metadata": {},
   "outputs": [
    {
     "data": {
      "text/plain": [
       "array([[0, 0, 0, ..., 0, 0, 0],\n",
       "       [0, 0, 0, ..., 0, 0, 0],\n",
       "       [0, 0, 0, ..., 0, 0, 0],\n",
       "       ...,\n",
       "       [0, 0, 0, ..., 0, 0, 0],\n",
       "       [0, 0, 0, ..., 0, 0, 0],\n",
       "       [0, 0, 0, ..., 0, 0, 0]])"
      ]
     },
     "execution_count": 25,
     "metadata": {},
     "output_type": "execute_result"
    }
   ],
   "source": [
    "vactor"
   ]
  },
  {
   "cell_type": "code",
   "execution_count": 26,
   "metadata": {},
   "outputs": [
    {
     "data": {
      "text/plain": [
       "(146755, 500)"
      ]
     },
     "execution_count": 26,
     "metadata": {},
     "output_type": "execute_result"
    }
   ],
   "source": [
    "vactor.shape"
   ]
  },
  {
   "cell_type": "code",
   "execution_count": 27,
   "metadata": {},
   "outputs": [
    {
     "data": {
      "text/plain": [
       "array(['20th', 'abuse', 'accident', 'action', 'actor', 'adult',\n",
       "       'adventure', 'affair', 'age', 'agent', 'alien', 'america',\n",
       "       'american', 'ancient', 'angeles', 'animal', 'animation', 'anime',\n",
       "       'army', 'arrives', 'art', 'artist', 'arts', 'attack', 'attempt',\n",
       "       'away', 'baby', 'bad', 'band', 'bank', 'based', 'battle',\n",
       "       'beautiful', 'begin', 'begins', 'best', 'big', 'biography',\n",
       "       'black', 'blood', 'body', 'book', 'boss', 'boy', 'boyfriend',\n",
       "       'boys', 'break', 'bring', 'brings', 'british', 'bros', 'brother',\n",
       "       'brothers', 'business', 'california', 'called', 'camp', 'car',\n",
       "       'care', 'career', 'cartoon', 'case', 'cat', 'century', 'chance',\n",
       "       'change', 'characters', 'child', 'childhood', 'children',\n",
       "       'christmas', 'cinema', 'city', 'class', 'close', 'club', 'college',\n",
       "       'columbia', 'come', 'comedy', 'comedya', 'comes', 'comic',\n",
       "       'coming', 'community', 'company', 'concert', 'control', 'cop',\n",
       "       'corporation', 'country', 'couple', 'course', 'crew', 'crime',\n",
       "       'criminal', 'culture', 'dance', 'dangerous', 'dark', 'daughter',\n",
       "       'david', 'day', 'days', 'dead', 'death', 'decide', 'decides',\n",
       "       'deep', 'detective', 'different', 'director', 'discover',\n",
       "       'discovers', 'disney', 'doctor', 'documentary', 'documentarya',\n",
       "       'documentarythe', 'does', 'doesn', 'dog', 'don', 'dr', 'drama',\n",
       "       'dramaa', 'dramain', 'dramathe', 'dream', 'dreams', 'drug',\n",
       "       'drugs', 'early', 'earth', 'end', 'england', 'entertainment',\n",
       "       'erotic', 'escape', 'event', 'events', 'evil', 'ex', 'experience',\n",
       "       'face', 'fall', 'falls', 'family', 'famous', 'fantasy', 'far',\n",
       "       'father', 'feature', 'features', 'featuring', 'female', 'fiction',\n",
       "       'fight', 'fighting', 'film', 'filmed', 'films', 'final', 'finally',\n",
       "       'finds', 'follows', 'footage', 'football', 'force', 'forced',\n",
       "       'forces', 'forest', 'form', 'fox', 'france', 'free', 'french',\n",
       "       'friend', 'friends', 'friendship', 'future', 'game', 'gang', 'gay',\n",
       "       'german', 'germany', 'gets', 'getting', 'ghost', 'girl',\n",
       "       'girlfriend', 'girls', 'goes', 'going', 'gold', 'goldwyn', 'good',\n",
       "       'government', 'great', 'group', 'hand', 'hard', 'having', 'head',\n",
       "       'heart', 'help', 'hero', 'high', 'history', 'hollywood', 'home',\n",
       "       'hope', 'horror', 'horrora', 'horse', 'hospital', 'hot', 'hotel',\n",
       "       'house', 'human', 'husband', 'identity', 'ii', 'including',\n",
       "       'inside', 'international', 'interviews', 'investigation',\n",
       "       'involved', 'island', 'japan', 'japanese', 'job', 'john', 'join',\n",
       "       'journey', 'just', 'kill', 'killed', 'killer', 'killing', 'king',\n",
       "       'know', 'known', 'la', 'land', 'late', 'later', 'law', 'lead',\n",
       "       'leader', 'leads', 'learn', 'learns', 'leave', 'leaves', 'led',\n",
       "       'left', 'les', 'lesbian', 'lgbt', 'life', 'light', 'like', 'line',\n",
       "       'little', 'live', 'lives', 'living', 'local', 'london', 'long',\n",
       "       'look', 'looking', 'los', 'loss', 'lost', 'love', 'lover', 'magic',\n",
       "       'make', 'makes', 'making', 'male', 'man', 'marriage', 'married',\n",
       "       'marry', 'martial', 'media', 'meet', 'meets', 'members', 'men',\n",
       "       'mental', 'metro', 'middle', 'military', 'mind', 'missing',\n",
       "       'mission', 'modern', 'money', 'monster', 'mother', 'motion',\n",
       "       'mountain', 'movie', 'murder', 'murdered', 'music', 'musical',\n",
       "       'mysterious', 'mystery', 'named', 'national', 'nature', 'new',\n",
       "       'night', 'noir', 'north', 'novel', 'officer', 'old', 'older',\n",
       "       'opera', 'order', 'owner', 'parents', 'paris', 'park', 'party',\n",
       "       'past', 'people', 'perfect', 'performance', 'person', 'personal',\n",
       "       'picture', 'pictures', 'place', 'plan', 'planet', 'plans', 'play',\n",
       "       'plot', 'police', 'political', 'popular', 'post', 'power',\n",
       "       'powerful', 'prison', 'private', 'problems', 'production',\n",
       "       'productions', 'public', 'race', 'radio', 'real', 'reality',\n",
       "       'really', 'red', 'relationship', 'relationships', 'released',\n",
       "       'rescue', 'return', 'returns', 'revenge', 'rich', 'right', 'road',\n",
       "       'rock', 'romance', 'romancea', 'romantic', 'room', 'run', 'save',\n",
       "       'scenes', 'school', 'science', 'scientist', 'screen', 'sea',\n",
       "       'search', 'second', 'secret', 'seen', 'self', 'sent', 'serial',\n",
       "       'series', 'set', 'sets', 'sex', 'sexual', 'ship', 'short', 'shot',\n",
       "       'shows', 'silent', 'singer', 'single', 'sister', 'small', 'social',\n",
       "       'society', 'soldier', 'son', 'soon', 'south', 'space', 'special',\n",
       "       'spirit', 'sports', 'stage', 'stand', 'star', 'stars', 'start',\n",
       "       'starts', 'state', 'stop', 'stories', 'story', 'strange', 'street',\n",
       "       'struggle', 'student', 'students', 'studio', 'studios', 'suddenly',\n",
       "       'suicide', 'summer', 'super', 'taken', 'takes', 'taking', 'tale',\n",
       "       'teacher', 'team', 'teenage', 'television', 'tells', 'theme',\n",
       "       'things', 'thriller', 'thrillera', 'time', 'tour', 'town', 'train',\n",
       "       'travel', 'tries', 'trip', 'true', 'truth', 'try', 'trying',\n",
       "       'turn', 'turns', 'tv', 'united', 'universal', 'use', 'using',\n",
       "       'video', 'village', 'violence', 'visit', 'want', 'wants', 'war',\n",
       "       'warner', 'water', 'way', 'wealthy', 'wedding', 'west', 'western',\n",
       "       'white', 'wife', 'wild', 'woman', 'women', 'work', 'working',\n",
       "       'works', 'world', 'wrestling', 'writer', 'year', 'years', 'york',\n",
       "       'young', 'younger'], dtype=object)"
      ]
     },
     "execution_count": 27,
     "metadata": {},
     "output_type": "execute_result"
    }
   ],
   "source": [
    "cv.get_feature_names_out()"
   ]
  },
  {
   "cell_type": "code",
   "execution_count": null,
   "metadata": {},
   "outputs": [],
   "source": [
    "similer = cosine_similarity(vactor)"
   ]
  },
  {
   "cell_type": "code",
   "execution_count": null,
   "metadata": {},
   "outputs": [],
   "source": []
  }
 ],
 "metadata": {
  "kernelspec": {
   "display_name": ".venv",
   "language": "python",
   "name": "python3"
  },
  "language_info": {
   "codemirror_mode": {
    "name": "ipython",
    "version": 3
   },
   "file_extension": ".py",
   "mimetype": "text/x-python",
   "name": "python",
   "nbconvert_exporter": "python",
   "pygments_lexer": "ipython3",
   "version": "3.9.0"
  }
 },
 "nbformat": 4,
 "nbformat_minor": 2
}
